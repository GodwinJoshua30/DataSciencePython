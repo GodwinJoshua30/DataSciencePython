{
 "cells": [
  {
   "cell_type": "markdown",
   "id": "32784373",
   "metadata": {},
   "source": [
    "# 1.\tImport the necessary package to\n",
    "a.\tSet the current working directory\n",
    "b.\tChange the working directory\n"
   ]
  },
  {
   "cell_type": "code",
   "execution_count": 10,
   "id": "e4009c3c",
   "metadata": {},
   "outputs": [],
   "source": [
    "import os"
   ]
  },
  {
   "cell_type": "code",
   "execution_count": 15,
   "id": "3c56cd2d",
   "metadata": {},
   "outputs": [
    {
     "data": {
      "text/plain": [
       "'D:\\\\Data Science\\\\Python\\\\Python'"
      ]
     },
     "execution_count": 15,
     "metadata": {},
     "output_type": "execute_result"
    }
   ],
   "source": [
    "os.getcwd()"
   ]
  },
  {
   "cell_type": "code",
   "execution_count": 16,
   "id": "bbd4de62",
   "metadata": {},
   "outputs": [],
   "source": [
    "os.chdir('D:\\Data Science\\Python\\Assignment')"
   ]
  },
  {
   "cell_type": "code",
   "execution_count": 17,
   "id": "1c499fd4",
   "metadata": {},
   "outputs": [
    {
     "data": {
      "text/plain": [
       "'D:\\\\Data Science\\\\Python\\\\Assignment'"
      ]
     },
     "execution_count": 17,
     "metadata": {},
     "output_type": "execute_result"
    }
   ],
   "source": [
    "os.getcwd()"
   ]
  },
  {
   "cell_type": "markdown",
   "id": "6fa0a5eb",
   "metadata": {},
   "source": [
    "# 2.\tCreate the string, int and float variable and delete them all in the next cell"
   ]
  },
  {
   "cell_type": "code",
   "execution_count": 26,
   "id": "6065120a",
   "metadata": {},
   "outputs": [
    {
     "name": "stdout",
     "output_type": "stream",
     "text": [
      "Seven 7 7.0\n"
     ]
    }
   ],
   "source": [
    "string1='Seven'\n",
    "int1=7\n",
    "float1=7.0\n",
    "print(string1,int1,float1)"
   ]
  },
  {
   "cell_type": "code",
   "execution_count": 28,
   "id": "b1d65a38",
   "metadata": {},
   "outputs": [],
   "source": [
    "del (string1,int1,float1)"
   ]
  },
  {
   "cell_type": "code",
   "execution_count": 29,
   "id": "fe3b9ef2",
   "metadata": {},
   "outputs": [
    {
     "ename": "NameError",
     "evalue": "name 'string1' is not defined",
     "output_type": "error",
     "traceback": [
      "\u001b[1;31m---------------------------------------------------------------------------\u001b[0m",
      "\u001b[1;31mNameError\u001b[0m                                 Traceback (most recent call last)",
      "\u001b[1;32mC:\\Users\\GODWIN~1\\AppData\\Local\\Temp/ipykernel_6444/554213543.py\u001b[0m in \u001b[0;36m<module>\u001b[1;34m\u001b[0m\n\u001b[1;32m----> 1\u001b[1;33m \u001b[0mprint\u001b[0m\u001b[1;33m(\u001b[0m\u001b[0mstring1\u001b[0m\u001b[1;33m,\u001b[0m\u001b[0mint1\u001b[0m\u001b[1;33m,\u001b[0m\u001b[0mfloat1\u001b[0m\u001b[1;33m)\u001b[0m\u001b[1;33m\u001b[0m\u001b[1;33m\u001b[0m\u001b[0m\n\u001b[0m",
      "\u001b[1;31mNameError\u001b[0m: name 'string1' is not defined"
     ]
    }
   ],
   "source": [
    "print(string1,int1,float1)"
   ]
  },
  {
   "cell_type": "code",
   "execution_count": 30,
   "id": "54b526c1",
   "metadata": {},
   "outputs": [
    {
     "name": "stdout",
     "output_type": "stream",
     "text": [
      "['Seven', 7, 7.0]\n"
     ]
    }
   ],
   "source": [
    "string1='Seven'\n",
    "int1=7\n",
    "float1=7.0\n",
    "list1=[string1,int1,float1]\n",
    "print(list1)"
   ]
  },
  {
   "cell_type": "code",
   "execution_count": 31,
   "id": "8b51e7d9",
   "metadata": {},
   "outputs": [],
   "source": [
    "del list1"
   ]
  },
  {
   "cell_type": "code",
   "execution_count": 32,
   "id": "00628b9b",
   "metadata": {},
   "outputs": [
    {
     "ename": "NameError",
     "evalue": "name 'list1' is not defined",
     "output_type": "error",
     "traceback": [
      "\u001b[1;31m---------------------------------------------------------------------------\u001b[0m",
      "\u001b[1;31mNameError\u001b[0m                                 Traceback (most recent call last)",
      "\u001b[1;32mC:\\Users\\GODWIN~1\\AppData\\Local\\Temp/ipykernel_6444/1424600876.py\u001b[0m in \u001b[0;36m<module>\u001b[1;34m\u001b[0m\n\u001b[1;32m----> 1\u001b[1;33m \u001b[0mprint\u001b[0m\u001b[1;33m(\u001b[0m\u001b[0mlist1\u001b[0m\u001b[1;33m)\u001b[0m\u001b[1;33m\u001b[0m\u001b[1;33m\u001b[0m\u001b[0m\n\u001b[0m",
      "\u001b[1;31mNameError\u001b[0m: name 'list1' is not defined"
     ]
    }
   ],
   "source": [
    "print(list1)"
   ]
  },
  {
   "cell_type": "markdown",
   "id": "a4e49115",
   "metadata": {},
   "source": [
    "# 3.\tWhat’s the result of assigning a value to a ‘keyword’?\n",
    "a.\tPlease highlight the error\n"
   ]
  },
  {
   "cell_type": "code",
   "execution_count": 33,
   "id": "ad3a1eef",
   "metadata": {},
   "outputs": [
    {
     "name": "stdout",
     "output_type": "stream",
     "text": [
      "[1, 2, 3, 4, 5]\n"
     ]
    }
   ],
   "source": [
    "list=[1,2,3,4,5]\n",
    "print(list)"
   ]
  },
  {
   "cell_type": "code",
   "execution_count": 34,
   "id": "62201a53",
   "metadata": {},
   "outputs": [
    {
     "data": {
      "text/plain": [
       "list"
      ]
     },
     "execution_count": 34,
     "metadata": {},
     "output_type": "execute_result"
    }
   ],
   "source": [
    "type(list)"
   ]
  },
  {
   "cell_type": "code",
   "execution_count": 35,
   "id": "ca7e7428",
   "metadata": {},
   "outputs": [
    {
     "ename": "TypeError",
     "evalue": "'list' object is not callable",
     "output_type": "error",
     "traceback": [
      "\u001b[1;31m---------------------------------------------------------------------------\u001b[0m",
      "\u001b[1;31mTypeError\u001b[0m                                 Traceback (most recent call last)",
      "\u001b[1;32mC:\\Users\\GODWIN~1\\AppData\\Local\\Temp/ipykernel_6444/947990053.py\u001b[0m in \u001b[0;36m<module>\u001b[1;34m\u001b[0m\n\u001b[1;32m----> 1\u001b[1;33m \u001b[0mlist1\u001b[0m\u001b[1;33m=\u001b[0m\u001b[0mlist\u001b[0m\u001b[1;33m(\u001b[0m\u001b[0mrange\u001b[0m\u001b[1;33m(\u001b[0m\u001b[1;36m9\u001b[0m\u001b[1;33m)\u001b[0m\u001b[1;33m)\u001b[0m\u001b[1;33m\u001b[0m\u001b[1;33m\u001b[0m\u001b[0m\n\u001b[0m",
      "\u001b[1;31mTypeError\u001b[0m: 'list' object is not callable"
     ]
    }
   ],
   "source": [
    "list1=list(range(9))"
   ]
  },
  {
   "cell_type": "markdown",
   "id": "700edebc",
   "metadata": {},
   "source": [
    "# 4.\tHow to write a multi-line statement and assign it to a variable (Note: Without using a backslash “\\” at the end of each line)"
   ]
  },
  {
   "cell_type": "code",
   "execution_count": 74,
   "id": "d2626572",
   "metadata": {},
   "outputs": [],
   "source": [
    "multiline_statement=['What is your name?',\n",
    "       'What is your qualification?',\n",
    "       'Which company do you work for?']\n"
   ]
  },
  {
   "cell_type": "code",
   "execution_count": 75,
   "id": "ff667c8a",
   "metadata": {},
   "outputs": [
    {
     "name": "stdout",
     "output_type": "stream",
     "text": [
      "What is your name?\n",
      "What is your qualification?\n",
      "Which company do you work for?\n"
     ]
    }
   ],
   "source": [
    "for i in multiline_statement:\n",
    "    print(i)"
   ]
  },
  {
   "cell_type": "markdown",
   "id": "f0c359d0",
   "metadata": {},
   "source": [
    "# 5.\tPrint the list of numbers from 100 to 999 with an interval (step size) of 8 between the numbers"
   ]
  },
  {
   "cell_type": "code",
   "execution_count": 11,
   "id": "b63e2712",
   "metadata": {},
   "outputs": [
    {
     "name": "stdout",
     "output_type": "stream",
     "text": [
      "[100, 108, 116, 124, 132, 140, 148, 156, 164, 172, 180, 188, 196, 204, 212, 220, 228, 236, 244, 252, 260, 268, 276, 284, 292, 300, 308, 316, 324, 332, 340, 348, 356, 364, 372, 380, 388, 396, 404, 412, 420, 428, 436, 444, 452, 460, 468, 476, 484, 492, 500, 508, 516, 524, 532, 540, 548, 556, 564, 572, 580, 588, 596, 604, 612, 620, 628, 636, 644, 652, 660, 668, 676, 684, 692, 700, 708, 716, 724, 732, 740, 748, 756, 764, 772, 780, 788, 796, 804, 812, 820, 828, 836, 844, 852, 860, 868, 876, 884, 892, 900, 908, 916, 924, 932, 940, 948, 956, 964, 972, 980, 988, 996]\n"
     ]
    }
   ],
   "source": [
    "list2=list(range(100,999,8))\n",
    "print(list2)"
   ]
  },
  {
   "cell_type": "markdown",
   "id": "a645da45",
   "metadata": {},
   "source": [
    "# 6.\tWrite a “for” loop to print out the ‘n’ values and break out of the statement if the value is ‘n/2’"
   ]
  },
  {
   "cell_type": "code",
   "execution_count": 30,
   "id": "78cab238",
   "metadata": {},
   "outputs": [
    {
     "name": "stdout",
     "output_type": "stream",
     "text": [
      "0\n",
      "1\n",
      "2\n",
      "3\n",
      "4\n"
     ]
    }
   ],
   "source": [
    "list3=list(range(10))\n",
    "for i in range(10):\n",
    "    if i ==(len(list3)/2):\n",
    "        break\n",
    "    else:\n",
    "        print(i)\n",
    "       "
   ]
  },
  {
   "cell_type": "markdown",
   "id": "0f916fb7",
   "metadata": {},
   "source": [
    "# 7.\tWrite a simple function and call the docstring from outside the function"
   ]
  },
  {
   "cell_type": "code",
   "execution_count": 33,
   "id": "6655ccfd",
   "metadata": {},
   "outputs": [
    {
     "name": "stdout",
     "output_type": "stream",
     "text": [
      "Takes in a number n, returns the square of n\n"
     ]
    }
   ],
   "source": [
    "def square(n):\n",
    "    '''Takes in a number n, returns the square of n'''\n",
    "    return n**2\n",
    "\n",
    "print(square.__doc__)"
   ]
  },
  {
   "cell_type": "markdown",
   "id": "0227112a",
   "metadata": {},
   "source": [
    "# 8.\tCreate a user-defined package in ‘site-packages’ with below 3 variables a, b and c. Import these variables and write a function to calculate the area of triangle for below 3 sides (a, b, c). Calculate the semi-perimeter (s) first, to calculate the area of triangle (area) at last"
   ]
  },
  {
   "cell_type": "code",
   "execution_count": 38,
   "id": "a3d29b69",
   "metadata": {},
   "outputs": [],
   "source": [
    "from Testpackge import dimensions\n"
   ]
  },
  {
   "cell_type": "code",
   "execution_count": 39,
   "id": "44138546",
   "metadata": {},
   "outputs": [],
   "source": [
    "def peri():\n",
    "    s=((dimensions.a+dimensions.b+dimensions.c)/2)\n",
    "    print(\"The perimeter of the triangle is \",s)\n",
    "    ar(s)\n",
    "        \n",
    "def ar(s):\n",
    "    c=((s*(s-dimensions.a)*(s-dimensions.b)*(s-dimensions.c))** 0.5)\n",
    "    print(\"area of triangle is \",c)\n",
    "\n"
   ]
  },
  {
   "cell_type": "code",
   "execution_count": 40,
   "id": "2c45fb84",
   "metadata": {},
   "outputs": [
    {
     "name": "stdout",
     "output_type": "stream",
     "text": [
      "The perimeter of the triangle is  5.5\n",
      "area of triangle is  4.14578098794425\n"
     ]
    }
   ],
   "source": [
    "peri()"
   ]
  },
  {
   "cell_type": "markdown",
   "id": "abcb9655",
   "metadata": {},
   "source": [
    "# 9.\tWrite a list comprehension to print the odd numbers from 0 to 100"
   ]
  },
  {
   "cell_type": "code",
   "execution_count": 45,
   "id": "228d8b95",
   "metadata": {},
   "outputs": [
    {
     "name": "stdout",
     "output_type": "stream",
     "text": [
      "[1, 3, 5, 7, 9, 11, 13, 15, 17, 19, 21, 23, 25, 27, 29, 31, 33, 35, 37, 39, 41, 43, 45, 47, 49, 51, 53, 55, 57, 59, 61, 63, 65, 67, 69, 71, 73, 75, 77, 79, 81, 83, 85, 87, 89, 91, 93, 95, 97, 99]\n"
     ]
    }
   ],
   "source": [
    "list4=list(range(101))\n",
    "oddnum=[a for a in list4 if a%2!=0] \n",
    "print(oddnum)"
   ]
  },
  {
   "cell_type": "markdown",
   "id": "8fbcfe6c",
   "metadata": {},
   "source": [
    "# Create a variable (ex: name) and store your full name in it. Then write a list comprehension to print your name excluding vowels (a, e, i, o, u)"
   ]
  },
  {
   "cell_type": "code",
   "execution_count": 55,
   "id": "6b20b24b",
   "metadata": {},
   "outputs": [],
   "source": [
    "list5=list('Godwin')\n",
    "vowels=['a','e','i','o','u']\n",
    "list6=[n for n in list5 if n not in vowels]"
   ]
  },
  {
   "cell_type": "code",
   "execution_count": 56,
   "id": "3cd92a30",
   "metadata": {},
   "outputs": [
    {
     "data": {
      "text/plain": [
       "['G', 'd', 'w', 'n']"
      ]
     },
     "execution_count": 56,
     "metadata": {},
     "output_type": "execute_result"
    }
   ],
   "source": [
    "list6"
   ]
  },
  {
   "cell_type": "code",
   "execution_count": null,
   "id": "b8987720",
   "metadata": {},
   "outputs": [],
   "source": []
  }
 ],
 "metadata": {
  "kernelspec": {
   "display_name": "Python 3 (ipykernel)",
   "language": "python",
   "name": "python3"
  },
  "language_info": {
   "codemirror_mode": {
    "name": "ipython",
    "version": 3
   },
   "file_extension": ".py",
   "mimetype": "text/x-python",
   "name": "python",
   "nbconvert_exporter": "python",
   "pygments_lexer": "ipython3",
   "version": "3.9.7"
  }
 },
 "nbformat": 4,
 "nbformat_minor": 5
}
