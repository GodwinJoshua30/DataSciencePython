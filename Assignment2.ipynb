{
 "cells": [
  {
   "cell_type": "markdown",
   "id": "348d15e3",
   "metadata": {},
   "source": [
    "# 1.\tGet the input for 2 variables though “input” function and pass them to a function to return the addition of two variables"
   ]
  },
  {
   "cell_type": "code",
   "execution_count": 1,
   "id": "9ff97a9a",
   "metadata": {},
   "outputs": [],
   "source": [
    "import os\n",
    "import pandas as pd\n",
    "import numpy as np"
   ]
  },
  {
   "cell_type": "code",
   "execution_count": 11,
   "id": "94aa8318",
   "metadata": {},
   "outputs": [
    {
     "name": "stdout",
     "output_type": "stream",
     "text": [
      "Enter variable 1:6\n",
      "Enter variable 2:5\n",
      "Sum of two variables: 11\n"
     ]
    }
   ],
   "source": [
    "def addition_of_numbers(num1,num2):\n",
    "    sum1=int(num1)+int(num2)\n",
    "    print('Sum of two variables:',sum1)\n",
    "num1=input('Enter variable 1:')\n",
    "num2=input('Enter variable 2:')\n",
    "addition_of_numbers(num1,num2) "
   ]
  },
  {
   "cell_type": "markdown",
   "id": "bec49e31",
   "metadata": {},
   "source": [
    "# 2.\tWhat happens if we try to add an int with str and vice versa. Please print out the error\n"
   ]
  },
  {
   "cell_type": "code",
   "execution_count": 12,
   "id": "f76b55f9",
   "metadata": {},
   "outputs": [
    {
     "ename": "TypeError",
     "evalue": "unsupported operand type(s) for +: 'int' and 'str'",
     "output_type": "error",
     "traceback": [
      "\u001b[1;31m---------------------------------------------------------------------------\u001b[0m",
      "\u001b[1;31mTypeError\u001b[0m                                 Traceback (most recent call last)",
      "\u001b[1;32mC:\\Users\\GODWIN~1\\AppData\\Local\\Temp/ipykernel_16992/3573152114.py\u001b[0m in \u001b[0;36m<module>\u001b[1;34m\u001b[0m\n\u001b[0;32m      1\u001b[0m \u001b[0minteger1\u001b[0m\u001b[1;33m=\u001b[0m\u001b[1;36m5\u001b[0m\u001b[1;33m\u001b[0m\u001b[1;33m\u001b[0m\u001b[0m\n\u001b[0;32m      2\u001b[0m \u001b[0mstring1\u001b[0m\u001b[1;33m=\u001b[0m\u001b[1;34m'add'\u001b[0m\u001b[1;33m\u001b[0m\u001b[1;33m\u001b[0m\u001b[0m\n\u001b[1;32m----> 3\u001b[1;33m \u001b[0minteger_plus_string\u001b[0m\u001b[1;33m=\u001b[0m\u001b[0minteger1\u001b[0m\u001b[1;33m+\u001b[0m\u001b[0mstring1\u001b[0m\u001b[1;33m\u001b[0m\u001b[1;33m\u001b[0m\u001b[0m\n\u001b[0m",
      "\u001b[1;31mTypeError\u001b[0m: unsupported operand type(s) for +: 'int' and 'str'"
     ]
    }
   ],
   "source": [
    "integer1=5\n",
    "string1='add'\n",
    "integer_plus_string=integer1+string1"
   ]
  },
  {
   "cell_type": "markdown",
   "id": "4368b249",
   "metadata": {},
   "source": [
    "# 3.\tCreate a string variable for the word “Data Science” and see if the letter “s” is present in it using membership operators"
   ]
  },
  {
   "cell_type": "code",
   "execution_count": 16,
   "id": "3237d243",
   "metadata": {},
   "outputs": [
    {
     "name": "stdout",
     "output_type": "stream",
     "text": [
      "False\n"
     ]
    }
   ],
   "source": [
    "a='Data Science'\n",
    "y='s'\n",
    "print('s' in a)"
   ]
  },
  {
   "cell_type": "markdown",
   "id": "1fd116f2",
   "metadata": {},
   "source": [
    "# 4.\tWrite a function and pass a number list as an argument to the function. And return True if the first and last number of a given list is same. If numbers are different then return False"
   ]
  },
  {
   "cell_type": "code",
   "execution_count": 38,
   "id": "eb44a7e2",
   "metadata": {},
   "outputs": [
    {
     "name": "stdout",
     "output_type": "stream",
     "text": [
      "True\n"
     ]
    }
   ],
   "source": [
    "def list1(x):\n",
    "    if x[0]==x[-1]:\n",
    "        print('True')\n",
    "    else:\n",
    "        print('False')\n",
    "x=[1,2,3,4,5,6,1]\n",
    "list1(x)"
   ]
  },
  {
   "cell_type": "markdown",
   "id": "45fe6e4a",
   "metadata": {},
   "source": [
    "# 5.\tIterate the given list of numbers (l1) and print only those numbers which are divisible by 5. (l1 = [10, 20, 33, 46, 55])"
   ]
  },
  {
   "cell_type": "code",
   "execution_count": 41,
   "id": "3eeb031f",
   "metadata": {},
   "outputs": [
    {
     "name": "stdout",
     "output_type": "stream",
     "text": [
      "[10, 20, 55]\n"
     ]
    }
   ],
   "source": [
    "l1=[10,20,33,46,55]\n",
    "div_5=[a for a in l1 if a%5==0]\n",
    "print(div_5)"
   ]
  },
  {
   "cell_type": "markdown",
   "id": "22a7b1dd",
   "metadata": {},
   "source": [
    "# 6.\tWrite a program to create function calculation() such that it can accept two variables and calculate addition and subtraction. Also, it must return both addition and subtraction in a single return call."
   ]
  },
  {
   "cell_type": "code",
   "execution_count": 48,
   "id": "59d6bc03",
   "metadata": {},
   "outputs": [
    {
     "name": "stdout",
     "output_type": "stream",
     "text": [
      "Enter variable1:5\n",
      "Enter variable2:6\n"
     ]
    },
    {
     "data": {
      "text/plain": [
       "(11, -1)"
      ]
     },
     "execution_count": 48,
     "metadata": {},
     "output_type": "execute_result"
    }
   ],
   "source": [
    "def calculation(x1,x2):\n",
    "    add1=int(x1)+int(x2)\n",
    "    sub1=int(x1)-int(x2)\n",
    "    return add1,sub1\n",
    "x1=input('Enter variable1:')\n",
    "x2=input('Enter variable2:')\n",
    "calculation(x1,x2)"
   ]
  },
  {
   "cell_type": "markdown",
   "id": "148df58a",
   "metadata": {},
   "source": [
    "# 7.\tWrite a program to demonstrate the following Syntax error\n",
    "a.\tSyntaxError: non-default argument follows default argument\n"
   ]
  },
  {
   "cell_type": "code",
   "execution_count": 49,
   "id": "04c1b75a",
   "metadata": {},
   "outputs": [
    {
     "ename": "SyntaxError",
     "evalue": "non-default argument follows default argument (Temp/ipykernel_16992/654342713.py, line 1)",
     "output_type": "error",
     "traceback": [
      "\u001b[1;36m  File \u001b[1;32m\"C:\\Users\\GODWIN~1\\AppData\\Local\\Temp/ipykernel_16992/654342713.py\"\u001b[1;36m, line \u001b[1;32m1\u001b[0m\n\u001b[1;33m    def error_demo(a1='Hi all',a2):\u001b[0m\n\u001b[1;37m                                 ^\u001b[0m\n\u001b[1;31mSyntaxError\u001b[0m\u001b[1;31m:\u001b[0m non-default argument follows default argument\n"
     ]
    }
   ],
   "source": [
    "def error_demo(a1='Hi all',a2):\n",
    "    return a1+a2"
   ]
  },
  {
   "cell_type": "markdown",
   "id": "a3834fa8",
   "metadata": {},
   "source": [
    "# 8.\tWhat’s recursion? Explain in your own words and write a program to create a recursive function to calculate the sum of numbers from 0 to 10"
   ]
  },
  {
   "cell_type": "code",
   "execution_count": 54,
   "id": "3acbd04f",
   "metadata": {},
   "outputs": [
    {
     "name": "stdout",
     "output_type": "stream",
     "text": [
      "55\n"
     ]
    }
   ],
   "source": [
    "def recursion(z):\n",
    "    if z==0:\n",
    "        return z\n",
    "    else:\n",
    "        return(z+recursion(z-1))\n",
    "z=10\n",
    "print(recursion(z))\n",
    "    \n",
    "    \n"
   ]
  },
  {
   "cell_type": "markdown",
   "id": "b1507020",
   "metadata": {},
   "source": [
    "# 9.\tUse filter and lambda function to calculate square for below numbers only if they are odd number\n",
    "a.\t[12, 11, 53, 22, 21, 77, 87, 88, 98]\n"
   ]
  },
  {
   "cell_type": "code",
   "execution_count": 67,
   "id": "8dcf59da",
   "metadata": {},
   "outputs": [
    {
     "name": "stdout",
     "output_type": "stream",
     "text": [
      "After filter [121, 2809, 441, 5929, 7569]\n"
     ]
    }
   ],
   "source": [
    "l2=[12, 11, 53, 22, 21, 77, 87, 88, 98]\n",
    "filt=list(map(lambda x:x*x,filter(lambda x:x%2!=0,l2)))\n",
    "print('After filter',filt)"
   ]
  },
  {
   "cell_type": "markdown",
   "id": "467b43ee",
   "metadata": {},
   "source": [
    "# 10.Write a function (not a lambda function) and use it to demonstrate an example for map function (any logical function of your choice)"
   ]
  },
  {
   "cell_type": "code",
   "execution_count": 90,
   "id": "be3fd74b",
   "metadata": {},
   "outputs": [
    {
     "name": "stdout",
     "output_type": "stream",
     "text": [
      "[1, 4, 9, 16, 25]\n"
     ]
    }
   ],
   "source": [
    "l3=[1,2,3,4,5]\n",
    "list3 = [i*i for i in l3]\n",
    "print(list3)\n"
   ]
  },
  {
   "cell_type": "code",
   "execution_count": null,
   "id": "cc88ceb4",
   "metadata": {},
   "outputs": [],
   "source": []
  }
 ],
 "metadata": {
  "kernelspec": {
   "display_name": "Python 3 (ipykernel)",
   "language": "python",
   "name": "python3"
  },
  "language_info": {
   "codemirror_mode": {
    "name": "ipython",
    "version": 3
   },
   "file_extension": ".py",
   "mimetype": "text/x-python",
   "name": "python",
   "nbconvert_exporter": "python",
   "pygments_lexer": "ipython3",
   "version": "3.9.7"
  }
 },
 "nbformat": 4,
 "nbformat_minor": 5
}
