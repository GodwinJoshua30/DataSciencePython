{
 "cells": [
  {
   "cell_type": "markdown",
   "id": "5026eedb",
   "metadata": {},
   "source": [
    "## 1.\tCreate a file calc.py which has following functions\n",
    "a.\tFunction to find the factorial of a number\n",
    "b.\tFunction to convert degree to Fahrenheit\n"
   ]
  },
  {
   "cell_type": "code",
   "execution_count": 14,
   "id": "38d4a72a",
   "metadata": {},
   "outputs": [],
   "source": [
    "import os\n",
    "import numpy as np\n",
    "import pandas as pd"
   ]
  },
  {
   "cell_type": "code",
   "execution_count": 2,
   "id": "fe67b1eb",
   "metadata": {},
   "outputs": [
    {
     "name": "stdout",
     "output_type": "stream",
     "text": [
      "Factorial is : 720\n",
      "Temp in fahrenheit is: 91.4\n"
     ]
    }
   ],
   "source": [
    "from Testpackge import calc\n",
    "calc.fact(6)\n",
    "calc.fahren(33)\n"
   ]
  },
  {
   "cell_type": "markdown",
   "id": "5ff5417f",
   "metadata": {},
   "source": [
    "# Write a new program in file “maths.py” such that you import functions of the file calc.py to your new program. Use from <module> import <functions> statement to import the functions from the calc module"
   ]
  },
  {
   "cell_type": "code",
   "execution_count": 3,
   "id": "5ee62515",
   "metadata": {},
   "outputs": [
    {
     "name": "stdout",
     "output_type": "stream",
     "text": [
      "Enter the number for Factorial : 5\n",
      "Enter the Celsius value : 32\n",
      "Factorial is : 120\n",
      "Temp in fahrenheit is: 89.6\n"
     ]
    }
   ],
   "source": [
    "from Testpackge import maths4\n",
    "maths4.func5()"
   ]
  },
  {
   "cell_type": "markdown",
   "id": "7c72aebc",
   "metadata": {},
   "source": [
    "# 2.\tImplement a simple generator for Fibonacci series"
   ]
  },
  {
   "cell_type": "code",
   "execution_count": 25,
   "id": "2e6124d2",
   "metadata": {},
   "outputs": [
    {
     "name": "stdout",
     "output_type": "stream",
     "text": [
      "Enter the terms5\n",
      "0\n",
      "1\n",
      "1\n",
      "2\n",
      "3\n"
     ]
    }
   ],
   "source": [
    "n=int(input(\"Enter the terms\"))\n",
    "fibo=list()\n",
    "for i in range(n):\n",
    "    if i==0:\n",
    "        fibo.append(i)\n",
    "        print(fibo[i])\n",
    "    elif i==1:\n",
    "        fibo.append(i)\n",
    "        print(fibo[i])\n",
    "    else :\n",
    "        fibo.append(i)\n",
    "        fibo[i]=fibo[i-1]+fibo[i-2]\n",
    "        print(fibo[i])\n",
    "        \n",
    "        "
   ]
  },
  {
   "cell_type": "markdown",
   "id": "2f9aa398",
   "metadata": {},
   "source": [
    "# 3.\tWrite an iterator class to iterate over a sequence of values in the reverse direction"
   ]
  },
  {
   "cell_type": "code",
   "execution_count": 28,
   "id": "57269c64",
   "metadata": {},
   "outputs": [
    {
     "data": {
      "text/plain": [
       "[5, 4, 3, 2, 1]"
      ]
     },
     "execution_count": 28,
     "metadata": {},
     "output_type": "execute_result"
    }
   ],
   "source": [
    "list1=[1,2,3,4,5]\n",
    "list2=list()\n",
    "for i in list1:\n",
    "    list2.append(list1[-i])\n",
    "list2\n",
    "    "
   ]
  },
  {
   "cell_type": "markdown",
   "id": "461933b0",
   "metadata": {},
   "source": [
    "# 4.\tWrite a function “salary” that takes in base pay, HRA and special allowance as arguments and returns the sum of all the 3 salary elements. Then create a decorator function to add an additional element “Tax” (30% of base pay) and assign it back to base pay variable, and return the function (i.e., the final calculation of salary also includes tax)"
   ]
  },
  {
   "cell_type": "code",
   "execution_count": 40,
   "id": "2d120ca0",
   "metadata": {},
   "outputs": [
    {
     "name": "stdout",
     "output_type": "stream",
     "text": [
      "Enter your base pay:10000\n",
      "Enter your HRA:5000\n",
      "Enter your spl allowance:2000\n",
      "Your current salary is : 14000.0\n"
     ]
    }
   ],
   "source": [
    "Base_pay = int(input(\"Enter your base pay:\"))\n",
    "HRA = int(input(\"Enter your HRA:\"))\n",
    "Special_allowance = int(input(\"Enter your spl allowance:\"))\n",
    "\n",
    "def salary(func,Base_pay,HRA,Special_allowance):\n",
    "   \n",
    "    Total_salary = (Base_pay + HRA + Special_allowance)-(func(Base_pay))\n",
    "    return Total_salary \n",
    "    \n",
    "def tax(Base_pay):\n",
    "    return (Base_pay)*0.3\n",
    "    \n",
    "tax(Base_pay)    \n",
    "print(\"Your current salary is :\",salary(tax,Base_pay,HRA,Special_allowance))"
   ]
  },
  {
   "cell_type": "markdown",
   "id": "3749741e",
   "metadata": {},
   "source": [
    "# 5.\tWrite 3 examples on possible methods to changing a tuple"
   ]
  },
  {
   "cell_type": "code",
   "execution_count": 41,
   "id": "2bc5d55d",
   "metadata": {},
   "outputs": [
    {
     "data": {
      "text/plain": [
       "[1, 4, 3, 4]"
      ]
     },
     "execution_count": 41,
     "metadata": {},
     "output_type": "execute_result"
    }
   ],
   "source": [
    "list3 = (1,2,3,4)  # tuple \n",
    "list3 = list(list3)    # change tuple to list \n",
    "list3[1]=4         # update tuple \n",
    "list3"
   ]
  },
  {
   "cell_type": "code",
   "execution_count": 42,
   "id": "359edc74",
   "metadata": {},
   "outputs": [
    {
     "name": "stdout",
     "output_type": "stream",
     "text": [
      "('apple', 'banana', 'cherry', 'orange')\n"
     ]
    }
   ],
   "source": [
    "list4 = (\"apple\", \"banana\", \"cherry\")\n",
    "y = (\"orange\",)\n",
    "list4 += y\n",
    "\n",
    "print(list4)"
   ]
  },
  {
   "cell_type": "code",
   "execution_count": 44,
   "id": "5759ec79",
   "metadata": {},
   "outputs": [
    {
     "data": {
      "text/plain": [
       "(2, 3, 24)"
      ]
     },
     "execution_count": 44,
     "metadata": {},
     "output_type": "execute_result"
    }
   ],
   "source": [
    "x=24\n",
    "tuple1=(1,2,3)\n",
    "tuple1=(tuple1[1],tuple1[2],x)\n",
    "tuple1"
   ]
  },
  {
   "cell_type": "code",
   "execution_count": null,
   "id": "571be398",
   "metadata": {},
   "outputs": [],
   "source": []
  }
 ],
 "metadata": {
  "kernelspec": {
   "display_name": "Python 3 (ipykernel)",
   "language": "python",
   "name": "python3"
  },
  "language_info": {
   "codemirror_mode": {
    "name": "ipython",
    "version": 3
   },
   "file_extension": ".py",
   "mimetype": "text/x-python",
   "name": "python",
   "nbconvert_exporter": "python",
   "pygments_lexer": "ipython3",
   "version": "3.9.7"
  }
 },
 "nbformat": 4,
 "nbformat_minor": 5
}
