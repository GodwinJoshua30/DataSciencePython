{
 "cells": [
  {
   "cell_type": "markdown",
   "id": "96c8429b",
   "metadata": {},
   "source": [
    "# 1.\tCreate a program that asks the user to enter their name and their age. Print out a message that tells them the year that they will turn 100 years old"
   ]
  },
  {
   "cell_type": "code",
   "execution_count": 27,
   "id": "f6e52b41",
   "metadata": {},
   "outputs": [
    {
     "name": "stdout",
     "output_type": "stream",
     "text": [
      "Enter your name:Godwin\n",
      "Enter your Age:25\n",
      "Enter the current year2022\n",
      "The year you will turn 100 is:  2097\n"
     ]
    }
   ],
   "source": [
    "Name=input('Enter your name:')\n",
    "Age=input('Enter your Age:')\n",
    "Currentyear =input('Enter the current year')\n",
    "Currentyear=int(Currentyear)\n",
    "age=int(Age)\n",
    "if age< 100:\n",
    "    add=100-age\n",
    "    Year_at100=Currentyear+add\n",
    "    print('The year you will turn 100 is: ',Year_at100)\n",
    "    "
   ]
  },
  {
   "cell_type": "markdown",
   "id": "dffc5ef9",
   "metadata": {},
   "source": [
    "# 3.\tHow to create a dataframe from list?"
   ]
  },
  {
   "cell_type": "code",
   "execution_count": 9,
   "id": "31669140",
   "metadata": {},
   "outputs": [],
   "source": [
    "import os\n",
    "import numpy as np\n",
    "import pandas as pd"
   ]
  },
  {
   "cell_type": "code",
   "execution_count": 13,
   "id": "97c74857",
   "metadata": {},
   "outputs": [
    {
     "data": {
      "text/html": [
       "<div>\n",
       "<style scoped>\n",
       "    .dataframe tbody tr th:only-of-type {\n",
       "        vertical-align: middle;\n",
       "    }\n",
       "\n",
       "    .dataframe tbody tr th {\n",
       "        vertical-align: top;\n",
       "    }\n",
       "\n",
       "    .dataframe thead th {\n",
       "        text-align: right;\n",
       "    }\n",
       "</style>\n",
       "<table border=\"1\" class=\"dataframe\">\n",
       "  <thead>\n",
       "    <tr style=\"text-align: right;\">\n",
       "      <th></th>\n",
       "      <th>Index number</th>\n",
       "      <th>Age</th>\n",
       "    </tr>\n",
       "  </thead>\n",
       "  <tbody>\n",
       "    <tr>\n",
       "      <th>0</th>\n",
       "      <td>3</td>\n",
       "      <td>30</td>\n",
       "    </tr>\n",
       "    <tr>\n",
       "      <th>1</th>\n",
       "      <td>4</td>\n",
       "      <td>40</td>\n",
       "    </tr>\n",
       "    <tr>\n",
       "      <th>2</th>\n",
       "      <td>5</td>\n",
       "      <td>50</td>\n",
       "    </tr>\n",
       "    <tr>\n",
       "      <th>3</th>\n",
       "      <td>6</td>\n",
       "      <td>60</td>\n",
       "    </tr>\n",
       "  </tbody>\n",
       "</table>\n",
       "</div>"
      ],
      "text/plain": [
       "   Index number  Age\n",
       "0             3   30\n",
       "1             4   40\n",
       "2             5   50\n",
       "3             6   60"
      ]
     },
     "execution_count": 13,
     "metadata": {},
     "output_type": "execute_result"
    }
   ],
   "source": [
    "list1=[[3,30],[4,40],[5,50],[6,60]]\n",
    "pd.DataFrame(list1,columns=['Index number','Age'])\n"
   ]
  },
  {
   "cell_type": "markdown",
   "id": "9bb6c6fe",
   "metadata": {},
   "source": [
    "# 5.\tWhat is the difference between list and tuples in Python?"
   ]
  },
  {
   "cell_type": "code",
   "execution_count": 14,
   "id": "2c1c0f96",
   "metadata": {},
   "outputs": [
    {
     "name": "stdout",
     "output_type": "stream",
     "text": [
      "[1, 2, 3, 4, 5, 6, 6, 6, 6]\n",
      "(1, 1, 1, 2, 2, 2, 3, 3, 4)\n"
     ]
    }
   ],
   "source": [
    "list1=[1,2,3,4,5,6,6,6,6]\n",
    "tuple1=(1,1,1,2,2,2,3,3,4)\n",
    "print(list1)\n",
    "print(tuple1)"
   ]
  },
  {
   "cell_type": "code",
   "execution_count": 18,
   "id": "3efbd7e6",
   "metadata": {},
   "outputs": [
    {
     "data": {
      "text/plain": [
       "2"
      ]
     },
     "execution_count": 18,
     "metadata": {},
     "output_type": "execute_result"
    }
   ],
   "source": [
    "tuple1[3]"
   ]
  },
  {
   "cell_type": "code",
   "execution_count": 17,
   "id": "a20e28e6",
   "metadata": {},
   "outputs": [
    {
     "data": {
      "text/plain": [
       "3"
      ]
     },
     "execution_count": 17,
     "metadata": {},
     "output_type": "execute_result"
    }
   ],
   "source": [
    "list1[2]"
   ]
  },
  {
   "cell_type": "code",
   "execution_count": 20,
   "id": "288ad315",
   "metadata": {},
   "outputs": [
    {
     "name": "stdout",
     "output_type": "stream",
     "text": [
      "[1, 2, 8, 4, 5, 6, 6, 6, 6]\n"
     ]
    }
   ],
   "source": [
    "list1[2]=8\n",
    "print(list1)"
   ]
  },
  {
   "cell_type": "code",
   "execution_count": 21,
   "id": "83e0f66f",
   "metadata": {},
   "outputs": [
    {
     "ename": "TypeError",
     "evalue": "'tuple' object does not support item assignment",
     "output_type": "error",
     "traceback": [
      "\u001b[1;31m---------------------------------------------------------------------------\u001b[0m",
      "\u001b[1;31mTypeError\u001b[0m                                 Traceback (most recent call last)",
      "\u001b[1;32mC:\\Users\\GODWIN~1\\AppData\\Local\\Temp/ipykernel_15544/489459862.py\u001b[0m in \u001b[0;36m<module>\u001b[1;34m\u001b[0m\n\u001b[1;32m----> 1\u001b[1;33m \u001b[0mtuple1\u001b[0m\u001b[1;33m[\u001b[0m\u001b[1;36m3\u001b[0m\u001b[1;33m]\u001b[0m\u001b[1;33m=\u001b[0m\u001b[1;36m8\u001b[0m\u001b[1;33m\u001b[0m\u001b[1;33m\u001b[0m\u001b[0m\n\u001b[0m",
      "\u001b[1;31mTypeError\u001b[0m: 'tuple' object does not support item assignment"
     ]
    }
   ],
   "source": [
    "tuple1[3]=8"
   ]
  },
  {
   "cell_type": "markdown",
   "id": "86bf33bf",
   "metadata": {},
   "source": [
    "# 8.\tWhat is a map() function in Python? Give an example"
   ]
  },
  {
   "cell_type": "code",
   "execution_count": 25,
   "id": "72dd958b",
   "metadata": {},
   "outputs": [
    {
     "name": "stdout",
     "output_type": "stream",
     "text": [
      "[False, True, False, True, False, True, False, True, False, True]\n"
     ]
    }
   ],
   "source": [
    "list2=[3,6,9,12,15,18,21,24,27,30]\n",
    "evennum_list=list(map(lambda x:x%2==0,list2))\n",
    "print(evennum_list)"
   ]
  },
  {
   "cell_type": "code",
   "execution_count": 26,
   "id": "b228ea4e",
   "metadata": {},
   "outputs": [
    {
     "name": "stdout",
     "output_type": "stream",
     "text": [
      "[9, 36, 81, 144, 225, 324, 441, 576, 729, 900]\n"
     ]
    }
   ],
   "source": [
    "list2=[3,6,9,12,15,18,21,24,27,30]\n",
    "squarenum_list=list(map(lambda x:x**2,list2))\n",
    "print(squarenum_list)"
   ]
  },
  {
   "cell_type": "markdown",
   "id": "8ac87fbb",
   "metadata": {},
   "source": [
    "# 9.What is pass in Python?"
   ]
  },
  {
   "cell_type": "code",
   "execution_count": null,
   "id": "0c6ddb3d",
   "metadata": {},
   "outputs": [],
   "source": [
    "list3=[3,6,9,12,15,18]\n",
    "for i in list3:\n",
    "    pass#the logic can be added at alater stage\n"
   ]
  },
  {
   "cell_type": "markdown",
   "id": "59449eed",
   "metadata": {},
   "source": [
    "# 2.\tWhat is pandas groupby? Demonstrate with your own example"
   ]
  },
  {
   "cell_type": "code",
   "execution_count": 87,
   "id": "72a5de81",
   "metadata": {},
   "outputs": [
    {
     "data": {
      "text/html": [
       "<div>\n",
       "<style scoped>\n",
       "    .dataframe tbody tr th:only-of-type {\n",
       "        vertical-align: middle;\n",
       "    }\n",
       "\n",
       "    .dataframe tbody tr th {\n",
       "        vertical-align: top;\n",
       "    }\n",
       "\n",
       "    .dataframe thead th {\n",
       "        text-align: right;\n",
       "    }\n",
       "</style>\n",
       "<table border=\"1\" class=\"dataframe\">\n",
       "  <thead>\n",
       "    <tr style=\"text-align: right;\">\n",
       "      <th></th>\n",
       "      <th>Footballer</th>\n",
       "      <th>Domestic_League</th>\n",
       "      <th>id</th>\n",
       "      <th>Goals</th>\n",
       "      <th>maxspeed</th>\n",
       "      <th>Titles</th>\n",
       "      <th>Nationality</th>\n",
       "      <th>Rating</th>\n",
       "    </tr>\n",
       "  </thead>\n",
       "  <tbody>\n",
       "    <tr>\n",
       "      <th>0</th>\n",
       "      <td>Ronaldo</td>\n",
       "      <td>English</td>\n",
       "      <td>1</td>\n",
       "      <td>807</td>\n",
       "      <td>39.7</td>\n",
       "      <td>38</td>\n",
       "      <td>Portugal</td>\n",
       "      <td>8.8</td>\n",
       "    </tr>\n",
       "    <tr>\n",
       "      <th>1</th>\n",
       "      <td>Raul</td>\n",
       "      <td>Spanish</td>\n",
       "      <td>2</td>\n",
       "      <td>405</td>\n",
       "      <td>37.6</td>\n",
       "      <td>25</td>\n",
       "      <td>Portugal</td>\n",
       "      <td>7.8</td>\n",
       "    </tr>\n",
       "    <tr>\n",
       "      <th>2</th>\n",
       "      <td>Neymar</td>\n",
       "      <td>French</td>\n",
       "      <td>3</td>\n",
       "      <td>462</td>\n",
       "      <td>37.2</td>\n",
       "      <td>18</td>\n",
       "      <td>Brazil</td>\n",
       "      <td>8.1</td>\n",
       "    </tr>\n",
       "    <tr>\n",
       "      <th>3</th>\n",
       "      <td>Pele</td>\n",
       "      <td>Italian</td>\n",
       "      <td>4</td>\n",
       "      <td>512</td>\n",
       "      <td>35.8</td>\n",
       "      <td>24</td>\n",
       "      <td>Brazil</td>\n",
       "      <td>8.7</td>\n",
       "    </tr>\n",
       "  </tbody>\n",
       "</table>\n",
       "</div>"
      ],
      "text/plain": [
       "  Footballer Domestic_League  id  Goals maxspeed  Titles Nationality  Rating\n",
       "0    Ronaldo         English   1    807     39.7      38    Portugal     8.8\n",
       "1       Raul         Spanish   2    405     37.6      25    Portugal     7.8\n",
       "2     Neymar          French   3    462     37.2      18      Brazil     8.1\n",
       "3       Pele         Italian   4    512     35.8      24      Brazil     8.7"
      ]
     },
     "execution_count": 87,
     "metadata": {},
     "output_type": "execute_result"
    }
   ],
   "source": [
    "df = pd.DataFrame({'Footballer': ['Ronaldo', 'Raul',\n",
    "                              'Neymar', 'Pele'],'Domestic_League':['English','Spanish','French','Italian'],'id':[1,2,3,4],\n",
    "                   'Goals': [807, 405, 462, 512],'maxspeed':['39.7','37.6','37.2','35.8'],'Titles':[38,25,18,24],'Nationality':['Portugal','Portugal','Brazil','Brazil'],'Rating':[8.8,7.8,8.1,8.7]})\n",
    "df"
   ]
  },
  {
   "cell_type": "code",
   "execution_count": 43,
   "id": "e8476683",
   "metadata": {},
   "outputs": [
    {
     "data": {
      "text/html": [
       "<div>\n",
       "<style scoped>\n",
       "    .dataframe tbody tr th:only-of-type {\n",
       "        vertical-align: middle;\n",
       "    }\n",
       "\n",
       "    .dataframe tbody tr th {\n",
       "        vertical-align: top;\n",
       "    }\n",
       "\n",
       "    .dataframe thead th {\n",
       "        text-align: right;\n",
       "    }\n",
       "</style>\n",
       "<table border=\"1\" class=\"dataframe\">\n",
       "  <thead>\n",
       "    <tr style=\"text-align: right;\">\n",
       "      <th></th>\n",
       "      <th>Footballer</th>\n",
       "      <th>Goals</th>\n",
       "      <th>maxspeed</th>\n",
       "      <th>Titles</th>\n",
       "      <th>Nationality</th>\n",
       "      <th>Rating</th>\n",
       "    </tr>\n",
       "  </thead>\n",
       "  <tbody>\n",
       "    <tr>\n",
       "      <th>1</th>\n",
       "      <td>Raul</td>\n",
       "      <td>405</td>\n",
       "      <td>37.6</td>\n",
       "      <td>25</td>\n",
       "      <td>Portugal</td>\n",
       "      <td>7.8</td>\n",
       "    </tr>\n",
       "    <tr>\n",
       "      <th>2</th>\n",
       "      <td>Neymar</td>\n",
       "      <td>462</td>\n",
       "      <td>37.2</td>\n",
       "      <td>18</td>\n",
       "      <td>Brazil</td>\n",
       "      <td>8.1</td>\n",
       "    </tr>\n",
       "    <tr>\n",
       "      <th>3</th>\n",
       "      <td>Pele</td>\n",
       "      <td>512</td>\n",
       "      <td>35.8</td>\n",
       "      <td>24</td>\n",
       "      <td>Brazil</td>\n",
       "      <td>8.7</td>\n",
       "    </tr>\n",
       "    <tr>\n",
       "      <th>0</th>\n",
       "      <td>Ronaldo</td>\n",
       "      <td>807</td>\n",
       "      <td>39.7</td>\n",
       "      <td>38</td>\n",
       "      <td>Portugal</td>\n",
       "      <td>8.8</td>\n",
       "    </tr>\n",
       "  </tbody>\n",
       "</table>\n",
       "</div>"
      ],
      "text/plain": [
       "  Footballer  Goals maxspeed  Titles Nationality  Rating\n",
       "1       Raul    405     37.6      25    Portugal     7.8\n",
       "2     Neymar    462     37.2      18      Brazil     8.1\n",
       "3       Pele    512     35.8      24      Brazil     8.7\n",
       "0    Ronaldo    807     39.7      38    Portugal     8.8"
      ]
     },
     "execution_count": 43,
     "metadata": {},
     "output_type": "execute_result"
    }
   ],
   "source": [
    "df.sort_values(by='Goals',ascending='False')"
   ]
  },
  {
   "cell_type": "code",
   "execution_count": 46,
   "id": "775e15af",
   "metadata": {},
   "outputs": [
    {
     "data": {
      "text/plain": [
       "Rating\n",
       "7.8    405\n",
       "8.1    462\n",
       "8.7    512\n",
       "8.8    807\n",
       "Name: Goals, dtype: int64"
      ]
     },
     "execution_count": 46,
     "metadata": {},
     "output_type": "execute_result"
    }
   ],
   "source": [
    "df.groupby(['Rating'])['Goals'].sum()"
   ]
  },
  {
   "cell_type": "code",
   "execution_count": 51,
   "id": "3d9677a4",
   "metadata": {
    "scrolled": true
   },
   "outputs": [
    {
     "data": {
      "text/plain": [
       "Nationality\n",
       "Brazil      487.0\n",
       "Portugal    606.0\n",
       "Name: Goals, dtype: float64"
      ]
     },
     "execution_count": 51,
     "metadata": {},
     "output_type": "execute_result"
    }
   ],
   "source": [
    "df.groupby(['Nationality'])['Goals'].mean()"
   ]
  },
  {
   "cell_type": "code",
   "execution_count": 62,
   "id": "66feecb1",
   "metadata": {},
   "outputs": [],
   "source": [
    "import warnings\n",
    "warnings.filterwarnings(\"ignore\")"
   ]
  },
  {
   "cell_type": "code",
   "execution_count": 63,
   "id": "1c414144",
   "metadata": {},
   "outputs": [
    {
     "data": {
      "text/html": [
       "<div>\n",
       "<style scoped>\n",
       "    .dataframe tbody tr th:only-of-type {\n",
       "        vertical-align: middle;\n",
       "    }\n",
       "\n",
       "    .dataframe tbody tr th {\n",
       "        vertical-align: top;\n",
       "    }\n",
       "\n",
       "    .dataframe thead th {\n",
       "        text-align: right;\n",
       "    }\n",
       "</style>\n",
       "<table border=\"1\" class=\"dataframe\">\n",
       "  <thead>\n",
       "    <tr style=\"text-align: right;\">\n",
       "      <th></th>\n",
       "      <th>Goals</th>\n",
       "      <th>Footballer</th>\n",
       "      <th>Titles</th>\n",
       "      <th>Rating</th>\n",
       "    </tr>\n",
       "  </thead>\n",
       "  <tbody>\n",
       "    <tr>\n",
       "      <th>0</th>\n",
       "      <td>405</td>\n",
       "      <td>Raul</td>\n",
       "      <td>25.0</td>\n",
       "      <td>7.8</td>\n",
       "    </tr>\n",
       "    <tr>\n",
       "      <th>1</th>\n",
       "      <td>462</td>\n",
       "      <td>Neymar</td>\n",
       "      <td>18.0</td>\n",
       "      <td>8.1</td>\n",
       "    </tr>\n",
       "    <tr>\n",
       "      <th>2</th>\n",
       "      <td>512</td>\n",
       "      <td>Pele</td>\n",
       "      <td>24.0</td>\n",
       "      <td>8.7</td>\n",
       "    </tr>\n",
       "    <tr>\n",
       "      <th>3</th>\n",
       "      <td>807</td>\n",
       "      <td>Ronaldo</td>\n",
       "      <td>38.0</td>\n",
       "      <td>8.8</td>\n",
       "    </tr>\n",
       "  </tbody>\n",
       "</table>\n",
       "</div>"
      ],
      "text/plain": [
       "   Goals Footballer  Titles  Rating\n",
       "0    405       Raul    25.0     7.8\n",
       "1    462     Neymar    18.0     8.1\n",
       "2    512       Pele    24.0     8.7\n",
       "3    807    Ronaldo    38.0     8.8"
      ]
     },
     "execution_count": 63,
     "metadata": {},
     "output_type": "execute_result"
    }
   ],
   "source": [
    "df.groupby(['Goals','Footballer'])['maxspeed','Titles','Rating'].mean().reset_index()"
   ]
  },
  {
   "cell_type": "markdown",
   "id": "75c4f9b5",
   "metadata": {},
   "source": [
    "# 4.\tWhat are the ways to combine the dataframe in pandas. Give an example for each"
   ]
  },
  {
   "cell_type": "code",
   "execution_count": 89,
   "id": "b47114a8",
   "metadata": {},
   "outputs": [
    {
     "data": {
      "text/html": [
       "<div>\n",
       "<style scoped>\n",
       "    .dataframe tbody tr th:only-of-type {\n",
       "        vertical-align: middle;\n",
       "    }\n",
       "\n",
       "    .dataframe tbody tr th {\n",
       "        vertical-align: top;\n",
       "    }\n",
       "\n",
       "    .dataframe thead th {\n",
       "        text-align: right;\n",
       "    }\n",
       "</style>\n",
       "<table border=\"1\" class=\"dataframe\">\n",
       "  <thead>\n",
       "    <tr style=\"text-align: right;\">\n",
       "      <th></th>\n",
       "      <th>Footballer</th>\n",
       "      <th>Domestic_League</th>\n",
       "      <th>id</th>\n",
       "      <th>Goals</th>\n",
       "      <th>maxspeed</th>\n",
       "      <th>Titles</th>\n",
       "      <th>Nationality</th>\n",
       "      <th>Rating</th>\n",
       "    </tr>\n",
       "  </thead>\n",
       "  <tbody>\n",
       "    <tr>\n",
       "      <th>0</th>\n",
       "      <td>Messi</td>\n",
       "      <td>Spanish</td>\n",
       "      <td>1</td>\n",
       "      <td>759</td>\n",
       "      <td>38.7</td>\n",
       "      <td>32</td>\n",
       "      <td>Argentina</td>\n",
       "      <td>8.6</td>\n",
       "    </tr>\n",
       "    <tr>\n",
       "      <th>1</th>\n",
       "      <td>Aguero</td>\n",
       "      <td>English</td>\n",
       "      <td>2</td>\n",
       "      <td>488</td>\n",
       "      <td>37.8</td>\n",
       "      <td>17</td>\n",
       "      <td>Argentina</td>\n",
       "      <td>7.9</td>\n",
       "    </tr>\n",
       "    <tr>\n",
       "      <th>2</th>\n",
       "      <td>Benzema</td>\n",
       "      <td>Spanish</td>\n",
       "      <td>3</td>\n",
       "      <td>525</td>\n",
       "      <td>38.8</td>\n",
       "      <td>29</td>\n",
       "      <td>France</td>\n",
       "      <td>8.1</td>\n",
       "    </tr>\n",
       "    <tr>\n",
       "      <th>3</th>\n",
       "      <td>Pogba</td>\n",
       "      <td>English</td>\n",
       "      <td>4</td>\n",
       "      <td>380</td>\n",
       "      <td>35.8</td>\n",
       "      <td>15</td>\n",
       "      <td>France</td>\n",
       "      <td>8.0</td>\n",
       "    </tr>\n",
       "  </tbody>\n",
       "</table>\n",
       "</div>"
      ],
      "text/plain": [
       "  Footballer Domestic_League  id  Goals maxspeed  Titles Nationality  Rating\n",
       "0      Messi         Spanish   1    759     38.7      32   Argentina     8.6\n",
       "1     Aguero         English   2    488     37.8      17   Argentina     7.9\n",
       "2    Benzema         Spanish   3    525     38.8      29      France     8.1\n",
       "3      Pogba         English   4    380     35.8      15      France     8.0"
      ]
     },
     "execution_count": 89,
     "metadata": {},
     "output_type": "execute_result"
    }
   ],
   "source": [
    "df1 = pd.DataFrame({'Footballer': ['Messi', 'Aguero',\n",
    "                              'Benzema', 'Pogba'],'Domestic_League':['Spanish','English','Spanish','English'],'id':[1,2,3,4],\n",
    "                   'Goals': [759, 488, 525, 380],'maxspeed':['38.7','37.8','38.8','35.8'],'Titles':[32,17,29,15],'Nationality':['Argentina','Argentina','France','France'],'Rating':[8.6,7.9,8.1,8.0]})\n",
    "df1"
   ]
  },
  {
   "cell_type": "code",
   "execution_count": 74,
   "id": "6b41ec3d",
   "metadata": {},
   "outputs": [
    {
     "data": {
      "text/plain": [
       "Goals     538.00\n",
       "Titles     23.25\n",
       "Rating      8.15\n",
       "dtype: float64"
      ]
     },
     "execution_count": 74,
     "metadata": {},
     "output_type": "execute_result"
    }
   ],
   "source": [
    "df1.mean()"
   ]
  },
  {
   "cell_type": "code",
   "execution_count": 90,
   "id": "ec63de1b",
   "metadata": {
    "scrolled": true
   },
   "outputs": [
    {
     "data": {
      "text/html": [
       "<div>\n",
       "<style scoped>\n",
       "    .dataframe tbody tr th:only-of-type {\n",
       "        vertical-align: middle;\n",
       "    }\n",
       "\n",
       "    .dataframe tbody tr th {\n",
       "        vertical-align: top;\n",
       "    }\n",
       "\n",
       "    .dataframe thead th {\n",
       "        text-align: right;\n",
       "    }\n",
       "</style>\n",
       "<table border=\"1\" class=\"dataframe\">\n",
       "  <thead>\n",
       "    <tr style=\"text-align: right;\">\n",
       "      <th></th>\n",
       "      <th>Footballer_x</th>\n",
       "      <th>Domestic_League_x</th>\n",
       "      <th>id</th>\n",
       "      <th>Goals_x</th>\n",
       "      <th>maxspeed_x</th>\n",
       "      <th>Titles_x</th>\n",
       "      <th>Nationality_x</th>\n",
       "      <th>Rating_x</th>\n",
       "      <th>Footballer_y</th>\n",
       "      <th>Domestic_League_y</th>\n",
       "      <th>Goals_y</th>\n",
       "      <th>maxspeed_y</th>\n",
       "      <th>Titles_y</th>\n",
       "      <th>Nationality_y</th>\n",
       "      <th>Rating_y</th>\n",
       "    </tr>\n",
       "  </thead>\n",
       "  <tbody>\n",
       "    <tr>\n",
       "      <th>0</th>\n",
       "      <td>Messi</td>\n",
       "      <td>Spanish</td>\n",
       "      <td>1</td>\n",
       "      <td>759</td>\n",
       "      <td>38.7</td>\n",
       "      <td>32</td>\n",
       "      <td>Argentina</td>\n",
       "      <td>8.6</td>\n",
       "      <td>Ronaldo</td>\n",
       "      <td>English</td>\n",
       "      <td>807</td>\n",
       "      <td>39.7</td>\n",
       "      <td>38</td>\n",
       "      <td>Portugal</td>\n",
       "      <td>8.8</td>\n",
       "    </tr>\n",
       "    <tr>\n",
       "      <th>1</th>\n",
       "      <td>Aguero</td>\n",
       "      <td>English</td>\n",
       "      <td>2</td>\n",
       "      <td>488</td>\n",
       "      <td>37.8</td>\n",
       "      <td>17</td>\n",
       "      <td>Argentina</td>\n",
       "      <td>7.9</td>\n",
       "      <td>Raul</td>\n",
       "      <td>Spanish</td>\n",
       "      <td>405</td>\n",
       "      <td>37.6</td>\n",
       "      <td>25</td>\n",
       "      <td>Portugal</td>\n",
       "      <td>7.8</td>\n",
       "    </tr>\n",
       "    <tr>\n",
       "      <th>2</th>\n",
       "      <td>Benzema</td>\n",
       "      <td>Spanish</td>\n",
       "      <td>3</td>\n",
       "      <td>525</td>\n",
       "      <td>38.8</td>\n",
       "      <td>29</td>\n",
       "      <td>France</td>\n",
       "      <td>8.1</td>\n",
       "      <td>Neymar</td>\n",
       "      <td>French</td>\n",
       "      <td>462</td>\n",
       "      <td>37.2</td>\n",
       "      <td>18</td>\n",
       "      <td>Brazil</td>\n",
       "      <td>8.1</td>\n",
       "    </tr>\n",
       "    <tr>\n",
       "      <th>3</th>\n",
       "      <td>Pogba</td>\n",
       "      <td>English</td>\n",
       "      <td>4</td>\n",
       "      <td>380</td>\n",
       "      <td>35.8</td>\n",
       "      <td>15</td>\n",
       "      <td>France</td>\n",
       "      <td>8.0</td>\n",
       "      <td>Pele</td>\n",
       "      <td>Italian</td>\n",
       "      <td>512</td>\n",
       "      <td>35.8</td>\n",
       "      <td>24</td>\n",
       "      <td>Brazil</td>\n",
       "      <td>8.7</td>\n",
       "    </tr>\n",
       "  </tbody>\n",
       "</table>\n",
       "</div>"
      ],
      "text/plain": [
       "  Footballer_x Domestic_League_x  id  Goals_x maxspeed_x  Titles_x  \\\n",
       "0        Messi           Spanish   1      759       38.7        32   \n",
       "1       Aguero           English   2      488       37.8        17   \n",
       "2      Benzema           Spanish   3      525       38.8        29   \n",
       "3        Pogba           English   4      380       35.8        15   \n",
       "\n",
       "  Nationality_x  Rating_x Footballer_y Domestic_League_y  Goals_y maxspeed_y  \\\n",
       "0     Argentina       8.6      Ronaldo           English      807       39.7   \n",
       "1     Argentina       7.9         Raul           Spanish      405       37.6   \n",
       "2        France       8.1       Neymar            French      462       37.2   \n",
       "3        France       8.0         Pele           Italian      512       35.8   \n",
       "\n",
       "   Titles_y Nationality_y  Rating_y  \n",
       "0        38      Portugal       8.8  \n",
       "1        25      Portugal       7.8  \n",
       "2        18        Brazil       8.1  \n",
       "3        24        Brazil       8.7  "
      ]
     },
     "execution_count": 90,
     "metadata": {},
     "output_type": "execute_result"
    }
   ],
   "source": [
    "pd.merge(df1,df,on='id' )"
   ]
  },
  {
   "cell_type": "code",
   "execution_count": 98,
   "id": "d114ced3",
   "metadata": {},
   "outputs": [
    {
     "data": {
      "text/html": [
       "<div>\n",
       "<style scoped>\n",
       "    .dataframe tbody tr th:only-of-type {\n",
       "        vertical-align: middle;\n",
       "    }\n",
       "\n",
       "    .dataframe tbody tr th {\n",
       "        vertical-align: top;\n",
       "    }\n",
       "\n",
       "    .dataframe thead th {\n",
       "        text-align: right;\n",
       "    }\n",
       "</style>\n",
       "<table border=\"1\" class=\"dataframe\">\n",
       "  <thead>\n",
       "    <tr style=\"text-align: right;\">\n",
       "      <th></th>\n",
       "      <th>index</th>\n",
       "      <th>Footballer</th>\n",
       "      <th>Domestic_League</th>\n",
       "      <th>id</th>\n",
       "      <th>Goals</th>\n",
       "      <th>maxspeed</th>\n",
       "      <th>Titles</th>\n",
       "      <th>Nationality</th>\n",
       "      <th>Rating</th>\n",
       "    </tr>\n",
       "  </thead>\n",
       "  <tbody>\n",
       "    <tr>\n",
       "      <th>0</th>\n",
       "      <td>0</td>\n",
       "      <td>Ronaldo</td>\n",
       "      <td>English</td>\n",
       "      <td>1</td>\n",
       "      <td>807</td>\n",
       "      <td>39.7</td>\n",
       "      <td>38</td>\n",
       "      <td>Portugal</td>\n",
       "      <td>8.8</td>\n",
       "    </tr>\n",
       "    <tr>\n",
       "      <th>1</th>\n",
       "      <td>1</td>\n",
       "      <td>Raul</td>\n",
       "      <td>Spanish</td>\n",
       "      <td>2</td>\n",
       "      <td>405</td>\n",
       "      <td>37.6</td>\n",
       "      <td>25</td>\n",
       "      <td>Portugal</td>\n",
       "      <td>7.8</td>\n",
       "    </tr>\n",
       "    <tr>\n",
       "      <th>2</th>\n",
       "      <td>2</td>\n",
       "      <td>Neymar</td>\n",
       "      <td>French</td>\n",
       "      <td>3</td>\n",
       "      <td>462</td>\n",
       "      <td>37.2</td>\n",
       "      <td>18</td>\n",
       "      <td>Brazil</td>\n",
       "      <td>8.1</td>\n",
       "    </tr>\n",
       "    <tr>\n",
       "      <th>3</th>\n",
       "      <td>3</td>\n",
       "      <td>Pele</td>\n",
       "      <td>Italian</td>\n",
       "      <td>4</td>\n",
       "      <td>512</td>\n",
       "      <td>35.8</td>\n",
       "      <td>24</td>\n",
       "      <td>Brazil</td>\n",
       "      <td>8.7</td>\n",
       "    </tr>\n",
       "    <tr>\n",
       "      <th>4</th>\n",
       "      <td>0</td>\n",
       "      <td>Messi</td>\n",
       "      <td>Spanish</td>\n",
       "      <td>1</td>\n",
       "      <td>759</td>\n",
       "      <td>38.7</td>\n",
       "      <td>32</td>\n",
       "      <td>Argentina</td>\n",
       "      <td>8.6</td>\n",
       "    </tr>\n",
       "    <tr>\n",
       "      <th>5</th>\n",
       "      <td>1</td>\n",
       "      <td>Aguero</td>\n",
       "      <td>English</td>\n",
       "      <td>2</td>\n",
       "      <td>488</td>\n",
       "      <td>37.8</td>\n",
       "      <td>17</td>\n",
       "      <td>Argentina</td>\n",
       "      <td>7.9</td>\n",
       "    </tr>\n",
       "    <tr>\n",
       "      <th>6</th>\n",
       "      <td>2</td>\n",
       "      <td>Benzema</td>\n",
       "      <td>Spanish</td>\n",
       "      <td>3</td>\n",
       "      <td>525</td>\n",
       "      <td>38.8</td>\n",
       "      <td>29</td>\n",
       "      <td>France</td>\n",
       "      <td>8.1</td>\n",
       "    </tr>\n",
       "    <tr>\n",
       "      <th>7</th>\n",
       "      <td>3</td>\n",
       "      <td>Pogba</td>\n",
       "      <td>English</td>\n",
       "      <td>4</td>\n",
       "      <td>380</td>\n",
       "      <td>35.8</td>\n",
       "      <td>15</td>\n",
       "      <td>France</td>\n",
       "      <td>8.0</td>\n",
       "    </tr>\n",
       "  </tbody>\n",
       "</table>\n",
       "</div>"
      ],
      "text/plain": [
       "   index Footballer Domestic_League  id  Goals maxspeed  Titles Nationality  \\\n",
       "0      0    Ronaldo         English   1    807     39.7      38    Portugal   \n",
       "1      1       Raul         Spanish   2    405     37.6      25    Portugal   \n",
       "2      2     Neymar          French   3    462     37.2      18      Brazil   \n",
       "3      3       Pele         Italian   4    512     35.8      24      Brazil   \n",
       "4      0      Messi         Spanish   1    759     38.7      32   Argentina   \n",
       "5      1     Aguero         English   2    488     37.8      17   Argentina   \n",
       "6      2    Benzema         Spanish   3    525     38.8      29      France   \n",
       "7      3      Pogba         English   4    380     35.8      15      France   \n",
       "\n",
       "   Rating  \n",
       "0     8.8  \n",
       "1     7.8  \n",
       "2     8.1  \n",
       "3     8.7  \n",
       "4     8.6  \n",
       "5     7.9  \n",
       "6     8.1  \n",
       "7     8.0  "
      ]
     },
     "execution_count": 98,
     "metadata": {},
     "output_type": "execute_result"
    }
   ],
   "source": [
    "df3=pd.concat([df,df1])\n",
    "df3.reset_index()"
   ]
  },
  {
   "cell_type": "markdown",
   "id": "d1cbb388",
   "metadata": {},
   "source": [
    "# 6. Find out the mean, median and standard deviation of this numpy array -> np.array([1,5,3,100,4,48])"
   ]
  },
  {
   "cell_type": "code",
   "execution_count": 93,
   "id": "0ffa2ecf",
   "metadata": {},
   "outputs": [
    {
     "data": {
      "text/plain": [
       "numpy.ndarray"
      ]
     },
     "execution_count": 93,
     "metadata": {},
     "output_type": "execute_result"
    }
   ],
   "source": [
    "array1=np.array([1,5,3,100,4,48])\n",
    "type(array1)"
   ]
  },
  {
   "cell_type": "code",
   "execution_count": 101,
   "id": "8123dc08",
   "metadata": {},
   "outputs": [
    {
     "name": "stdout",
     "output_type": "stream",
     "text": [
      "26.833333333333332\n",
      "4.5\n",
      "36.59424666377065\n"
     ]
    }
   ],
   "source": [
    "print(np.mean(array1,axis=0))\n",
    "print(np.median(array1,axis=0))\n",
    "print(np.std(array1,axis=0))"
   ]
  },
  {
   "cell_type": "markdown",
   "id": "d7080c0c",
   "metadata": {},
   "source": [
    "# 7.\tHow will you remove duplicate elements from a list?"
   ]
  },
  {
   "cell_type": "code",
   "execution_count": 114,
   "id": "5df55d59",
   "metadata": {},
   "outputs": [
    {
     "name": "stdout",
     "output_type": "stream",
     "text": [
      "[1, 2, 3, 4]\n"
     ]
    }
   ],
   "source": [
    "list2=[1,2,1,2,3,3,4]\n",
    "list3=[]\n",
    "[list3.append(x) for x in list2 if x not in list3]\n",
    "print(list3)"
   ]
  },
  {
   "cell_type": "markdown",
   "id": "13f2cdd6",
   "metadata": {},
   "source": [
    "# 10.\tWhat is vstack() in numpy? Give an example"
   ]
  },
  {
   "cell_type": "code",
   "execution_count": 119,
   "id": "65261129",
   "metadata": {},
   "outputs": [],
   "source": [
    "import numpy as np"
   ]
  },
  {
   "cell_type": "code",
   "execution_count": 126,
   "id": "3cf1b590",
   "metadata": {},
   "outputs": [],
   "source": [
    "np.vstack?"
   ]
  },
  {
   "cell_type": "code",
   "execution_count": 132,
   "id": "6b1a1afe",
   "metadata": {},
   "outputs": [
    {
     "name": "stdout",
     "output_type": "stream",
     "text": [
      "Output vertically stacked array\n",
      " [[1 2 3 4]\n",
      " [5 6 7 8]]\n"
     ]
    }
   ],
   "source": [
    "a=np.array([1,2,3,4])\n",
    "b=np.array([5,6,7,8])\n",
    "c=np.vstack((a,b))\n",
    "print('Output vertically stacked array\\n',c)"
   ]
  },
  {
   "cell_type": "code",
   "execution_count": null,
   "id": "acb9c4ed",
   "metadata": {},
   "outputs": [],
   "source": []
  }
 ],
 "metadata": {
  "kernelspec": {
   "display_name": "Python 3 (ipykernel)",
   "language": "python",
   "name": "python3"
  },
  "language_info": {
   "codemirror_mode": {
    "name": "ipython",
    "version": 3
   },
   "file_extension": ".py",
   "mimetype": "text/x-python",
   "name": "python",
   "nbconvert_exporter": "python",
   "pygments_lexer": "ipython3",
   "version": "3.9.7"
  }
 },
 "nbformat": 4,
 "nbformat_minor": 5
}
